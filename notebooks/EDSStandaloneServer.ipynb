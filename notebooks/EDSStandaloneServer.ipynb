{
  "metadata" : {
    "config" : {
      "dependencies" : {
        "scala" : [
          "file:///opt/generator/generator-target-eds-jar-with-dependencies.jar",
          "file:///opt/fhir-sdk.jar",
          "file:///opt/generator/third-party/synthea-with-dependencies.jar"
        ]
      },
      "exclusions" : [
      ],
      "repositories" : [
      ],
      "sparkConfig" : {
        "spark.master" : "local[*]"
      },
      "env" : {
        
      }
    },
    "language_info" : {
      "name" : "scala"
    }
  },
  "nbformat" : 4,
  "nbformat_minor" : 0,
  "cells" : [
    {
      "cell_type" : "markdown",
      "execution_count" : 0,
      "metadata" : {
        "language" : "text"
      },
      "language" : "text",
      "source" : [
        "# Inr\n",
        "recting with the EDS standalona servere\n",
        "\n",
        "This small note\n",
        "ook shows how to interact with the EDS standalone server running locally.b\n",
        "This notebook requires the Docker image to be run with the EDS SDK (\"fhir-sdk.jar\") mounted to \"/opt/fhir-sdk.jar\" in read-only mode, and two links to the EDS server and the OMOP database. It is also possible to cache the Synthea population to save time on multiple runs.<br>!\n",
        "More specifically, if \"./eds-fhir-backend-test\" is the path to the unzipped distribution of the standalone server, the following Docker command can be used to launch the notebooks:\n",
        "\n",
        "`./make.py docker_run -v $(pwd)/eds-fhir-backend-test:/opt/fhir-sdk.jar:ro`--docker=net=app_default --docker=link=app_backend_1:backend --docker=link=app_db_1:db -v $(pwd)/.cache:/opt/generator/.cache\n",
        "\n",
        "\n"
      ],
      "outputs" : [
      ]
    },
    {
      "cell_type" : "markdown",
      "execution_count" : 26,
      "metadata" : {
        "language" : "text"
      },
      "language" : "text",
      "source" : [
        "## Initialization\n",
        "\n"
      ],
      "outputs" : [
      ]
    },
    {
      "cell_type" : "code",
      "execution_count" : 25,
      "metadata" : {
        "cell.metadata.exec_info" : {
          "startTs" : 1586464730593,
          "endTs" : 1586464732133
        },
        "language" : "scala"
      },
      "language" : "scala",
      "source" : [
        "// Implementation detail: Synthea currently uses an older version of the\n",
        "// HAPIFHIR than the EDS SDK.  We must ensure that the newer version is\n",
        "// loaded, not the old one.  We do this by retrieving the jar that\n",
        "// contains an HAPIFHIR class.\n",
        "{\n",
        "    val klass = classOf[ca.uhn.fhir.rest.client.api.IGenericClient]\n",
        "    val location =\n",
        "        klass.getResource(\n",
        "            '/' + klass.getName().replace('.', '/') + \".class\"\n",
        "        ).toString\n",
        "    assert(\n",
        "        location.startsWith(\"jar:file:/opt/fhir-sdk.jar!\"),\n",
        "        s\"unexpected class location ${location}\")\n",
        "}"
      ],
      "outputs" : [
      ]
    },
    {
      "cell_type" : "code",
      "execution_count" : 1,
      "metadata" : {
        "cell.metadata.exec_info" : {
          "startTs" : 1586464741060,
          "endTs" : 1586464744230
        },
        "language" : "scala"
      },
      "language" : "scala",
      "source" : [
        "// Let's start by creating a client to connect to the EDS server.\n",
        "// Its default port is 8003.  There are two groups of endpoints:\n",
        "// - The FHIR endpoints are under http://backend:8003/fhir\n",
        "// - The \"service\" endpoints are under http://backend:8003/eds\n",
        "//\n",
        "// Service endpoints are used to reset the databases between tests,\n",
        "// to seed the databases, to update indexes, and to check health.\n",
        "//\n",
        "// The SDK exposes strongly typed clients to both groups of endpoints.\n",
        "import fr.aphp.wind.eds.sdk._\n",
        "\n",
        "val client = new Client(\"http://backend:8003\")"
      ],
      "outputs" : [
      ]
    },
    {
      "cell_type" : "code",
      "execution_count" : 3,
      "metadata" : {
        "cell.metadata.exec_info" : {
          "startTs" : 1586464752186,
          "endTs" : 1586464754407
        },
        "language" : "scala"
      },
      "language" : "scala",
      "source" : [
        "// Check that the server is healthy.  This just tries to connect\n",
        "// to a \"health\" endpoint.\n",
        "client.ping()"
      ],
      "outputs" : [
      ]
    },
    {
      "cell_type" : "code",
      "execution_count" : 4,
      "metadata" : {
        "cell.metadata.exec_info" : {
          "startTs" : 1586464762776,
          "endTs" : 1586464797596
        },
        "language" : "scala"
      },
      "language" : "scala",
      "source" : [
        "// Get DB connection info\n",
        "import java.util.Properties\n",
        "import java.sql.DriverManager\n",
        "\n",
        "// DB connection info can be accessed directly through the\n",
        "// EDS test server.  This is so that there is only one\n",
        "// base URL to know in advance.\n",
        "val dbUrl = {\n",
        "    val stackInfo = client.eds().test().stackInfo()\n",
        "    s\"${stackInfo.getDbUrl}&\" +\n",
        "        s\"user=${stackInfo.getDbUser}&\" +\n",
        "        s\"password=${stackInfo.getDbPassword}\"\n",
        "}\n",
        "\n",
        "// Let's check that we can connect to the database using\n",
        "// JDBC.  If we can't connect through this procedure, it can\n",
        "// be because: \n",
        "// - The database server is down\n",
        "// - It is not on the same network as the notebook\n",
        "// - Its address is wrong\n",
        "// - The Postgresql driver is not on the classpath\n",
        "{\n",
        "    val conn = DriverManager.getConnection(dbUrl)\n",
        "    try {\n",
        "        conn.createStatement().execute(\"select 1\")\n",
        "    } finally {\n",
        "        conn.close()\n",
        "    }\n",
        "}\n",
        "\n",
        "// Additional connection properties\n",
        "val dbProperties = new Properties()\n",
        "dbProperties.put(\"driver\", \"org.postgresql.Driver\")\n",
        "\n",
        "// Let's try to access the database using Spark\n",
        "spark.read.jdbc(dbUrl, \"person\", dbProperties).count()"
      ],
      "outputs" : [
        {
          "execution_count" : 4,
          "data" : {
            "text/plain" : [
              "0"
            ]
          },
          "metadata" : {
            "name" : "Out",
            "type" : "Long"
          },
          "output_type" : "execute_result"
        }
      ]
    },
    {
      "cell_type" : "markdown",
      "execution_count" : 27,
      "metadata" : {
        "language" : "text"
      },
      "language" : "text",
      "source" : [
        "## Synthetic data generation\n",
        "\n"
      ],
      "outputs" : [
      ]
    },
    {
      "cell_type" : "code",
      "execution_count" : 5,
      "metadata" : {
        "cell.metadata.exec_info" : {
          "startTs" : 1586464801634,
          "endTs" : 1586464826626
        },
        "language" : "scala"
      },
      "language" : "scala",
      "source" : [
        "// Let's generate a number of patients using the Synthea generator.\n",
        "// The default Synthea modules are used (modules contain\n",
        "// generation rules).\n",
        "import java.io.File\n",
        "import fr.aphp.wind.eds.generator.source.synthea\n",
        "import fr.aphp.wind.eds.generator.source.synthea.SyntheaDataBundle\n",
        "import fr.aphp.wind.eds.data.DFSupplyCache\n",
        "\n",
        "// We use a cache to avoid generating the synthea population again\n",
        "// on a second run.\n",
        "val cache = new DFSupplyCache(\n",
        "    new File(\"/opt/generator/.cache\"),\n",
        "    format = \"parquet\")\n",
        "val syntheaBundle = new SyntheaDataBundle(\n",
        "    cache.cache(\n",
        "        \"synthea\",\n",
        "        synthea.tables,\n",
        "        () => synthea.generate(5).genericBundle))"
      ],
      "outputs" : [
      ]
    },
    {
      "cell_type" : "code",
      "execution_count" : 6,
      "metadata" : {
        "cell.metadata.exec_info" : {
          "startTs" : 1586464830111,
          "endTs" : 1586464846632
        },
        "language" : "scala"
      },
      "language" : "scala",
      "source" : [
        "// Let's get an EDS bundle from the Synthea bundle\n",
        "import fr.aphp.wind.eds.generator.target.eds._\n",
        "val edsBundle = FromSynthea(syntheaBundle) \n",
        "\n",
        "// Let's validate that the tables have schemas compatible with the EDS\n",
        "// (all the schemas are automatically generated from the table descriptions).\n",
        "edsBundle.validate(allowMissingFields=true).throwOnErrors()"
      ],
      "outputs" : [
      ]
    },
    {
      "cell_type" : "code",
      "execution_count" : 7,
      "metadata" : {
        "cell.metadata.exec_info" : {
          "startTs" : 1586464859510,
          "endTs" : 1586464898290
        },
        "language" : "scala"
      },
      "language" : "scala",
      "source" : [
        "// We collect all the dataframes at this point.  This forces\n",
        "// all the calculations to be made (Spark is a lazy engine).\n",
        "edsBundle.genericBundle.collect()"
      ],
      "outputs" : [
        {
          "execution_count" : 7,
          "data" : {
            "text/plain" : [
              "List([Lorg.apache.spark.sql.Row;@146d99e0, [Lorg.apache.spark.sql.Row;@70cc3202, [Lorg.apache.spark.sql.Row;@50173a1b, [Lorg.apache.spark.sql.Row;@23c1ab09, [Lorg.apache.spark.sql.Row;@5b1b8408, [Lorg.apache.spark.sql.Row;@4ad6e14b, [Lorg.apache.spark.sq"
            ]
          },
          "metadata" : {
            "name" : "Out",
            "type" : "Iterable[Array[Row]]"
          },
          "output_type" : "execute_result"
        }
      ]
    },
    {
      "cell_type" : "markdown",
      "execution_count" : 28,
      "metadata" : {
        "language" : "text"
      },
      "language" : "text",
      "source" : [
        "## Identity and access management\n",
        "\n"
      ],
      "outputs" : [
      ]
    },
    {
      "cell_type" : "code",
      "execution_count" : 8,
      "metadata" : {
        "cell.metadata.exec_info" : {
          "startTs" : 1586464919005,
          "endTs" : 1586464935117
        },
        "language" : "scala"
      },
      "language" : "scala",
      "source" : [
        "// Let's give the right to view all the patients to a random provider.\n",
        "\n",
        "// This is the ID of the provider with all-encompassing access rights.\n",
        "val providerId = edsBundle.providers.select('provider_id.as[Long]).first\n",
        "\n",
        "// We give access rights through a randomly chosen care site.\n",
        "val careSiteId = edsBundle.careSites.select('care_site_id.as[Long]).first\n",
        "\n",
        "// We gather all the person IDs.\n",
        "val personIds = edsBundle.persons.select('person_id.as[Long])\n",
        "\n",
        "// edsBundleWithRights is the EDS bundle augmented with identity\n",
        "// and access management info.\n",
        "val edsBundleWithRights = {\n",
        "    // This import adds methods for rights management to\n",
        "    // [[EDSDataBundle]], using an implicit class.\n",
        "    import fr.aphp.wind.eds.generator.target.eds.access._\n",
        "\n",
        "    edsBundle\n",
        "        // Add the standard roles to the \"role\" table.\n",
        "        .withStandardRoles()\n",
        "        // Associates the chosen provider to one of the \n",
        "        // standard roles.\n",
        "        .withProviderRoles(Seq(\n",
        "            ProviderRole(\n",
        "                standardRoles.carer,\n",
        "                providerId,\n",
        "                careSiteId)\n",
        "            ).toDS())\n",
        "        // Add all the persons to a cohort named \"foo\"\n",
        "        // that is registered at the chosen care site.\n",
        "        .withCohorts(\n",
        "            Seq(CohortSpec(\"foo\", careSiteId, personIds)))\n",
        "}"
      ],
      "outputs" : [
      ]
    },
    {
      "cell_type" : "code",
      "execution_count" : 14,
      "metadata" : {
        "cell.metadata.exec_info" : {
          "startTs" : 1586464952719,
          "endTs" : 1586464953629
        },
        "language" : "scala"
      },
      "language" : "scala",
      "source" : [
        "// Ensure that the bundle still passes the validation rules.\n",
        "edsBundleWithRights.validate(allowMissingFields=true).throwOnErrors()"
      ],
      "outputs" : [
      ]
    },
    {
      "cell_type" : "code",
      "execution_count" : 18,
      "metadata" : {
        "cell.metadata.exec_info" : {
          "startTs" : 1586464958850,
          "endTs" : 1586464960960
        },
        "language" : "scala"
      },
      "language" : "scala",
      "source" : [
        "// The username the provider must use in the token used for authentication\n",
        "// is its \"provider_source_value\".\n",
        "val providerUsername = edsBundle.providers\n",
        "    .where('provider_id === providerId)\n",
        "    .select('provider_source_value.as[String]).first"
      ],
      "outputs" : [
      ]
    },
    {
      "cell_type" : "markdown",
      "execution_count" : 30,
      "metadata" : {
        "language" : "text"
      },
      "language" : "text",
      "source" : [
        "## Database synchronization\n",
        "\n"
      ],
      "outputs" : [
      ]
    },
    {
      "cell_type" : "code",
      "execution_count" : 32,
      "metadata" : {
        "cell.metadata.exec_info" : {
          "startTs" : 1586464967285,
          "endTs" : 1586464969927
        },
        "language" : "scala"
      },
      "language" : "scala",
      "source" : [
        "// Reset the test database by truncating all the tables.\n",
        "client.eds.test.reset()"
      ],
      "outputs" : [
      ]
    },
    {
      "cell_type" : "code",
      "execution_count" : 31,
      "metadata" : {
        "cell.metadata.exec_info" : {
          "startTs" : 1586464974455,
          "endTs" : 1586465010100
        },
        "language" : "scala"
      },
      "language" : "scala",
      "source" : [
        "// Save the bundle to the test database. \n",
        "edsBundleWithRights\n",
        "    // An additional column \"hash\" is required.  It is used\n",
        "    // by the ETL.\n",
        "    .withHash\n",
        "    .genericBundle\n",
        "    .saveToDB(\n",
        "        dbUrl,\n",
        "        connectionProperties=dbProperties)"
      ],
      "outputs" : [
      ]
    },
    {
      "cell_type" : "code",
      "execution_count" : 33,
      "metadata" : {
        "cell.metadata.exec_info" : {
          "startTs" : 1586465015945,
          "endTs" : 1586465066180
        },
        "language" : "scala"
      },
      "language" : "scala",
      "source" : [
        "// Update the search indexes.\n",
        "client.eds.index.update()"
      ],
      "outputs" : [
      ]
    },
    {
      "cell_type" : "markdown",
      "execution_count" : 29,
      "metadata" : {
        "language" : "text"
      },
      "language" : "text",
      "source" : [
        "## FHIR access\n",
        "\n"
      ],
      "outputs" : [
      ]
    },
    {
      "cell_type" : "code",
      "execution_count" : 19,
      "metadata" : {
        "cell.metadata.exec_info" : {
          "startTs" : 1586465070689,
          "endTs" : 1586465073106
        },
        "language" : "scala"
      },
      "language" : "scala",
      "source" : [
        "// Let's retrieve, as an example, the Patient resource for a\n",
        "// random person, through the FHIR client.\n",
        "val personId = edsBundle.persons.select('person_id.as[Long]).first"
      ],
      "outputs" : [
      ]
    },
    {
      "cell_type" : "code",
      "execution_count" : 21,
      "metadata" : {
        "cell.metadata.exec_info" : {
          "startTs" : 1586465080835,
          "endTs" : 1586465085062
        },
        "language" : "scala"
      },
      "language" : "scala",
      "source" : [
        "// This creates a FHIR client for a given username.  Under the\n",
        "// hood, the test server creates a test token without first needing\n",
        "// authentication.\n",
        "val fhirClient = client.genericFhir(providerUsername)"
      ],
      "outputs" : [
      ]
    },
    {
      "cell_type" : "code",
      "execution_count" : 23,
      "metadata" : {
        "cell.metadata.exec_info" : {
          "startTs" : 1586465088469,
          "endTs" : 1586465099389
        },
        "language" : "scala"
      },
      "language" : "scala",
      "source" : [
        "// The FHIR client above is an R4 client, so we fetch an R4 Patient\n",
        "// resource.\n",
        "import org.hl7.fhir.r4.model.Patient\n",
        "val patient = fhirClient.read()\n",
        "    .resource(classOf[Patient])\n",
        "    .withId(personId.toString)\n",
        "    .execute()"
      ],
      "outputs" : [
      ]
    },
    {
      "cell_type" : "code",
      "execution_count" : 24,
      "metadata" : {
        "cell.metadata.exec_info" : {
          "startTs" : 1586465112362,
          "endTs" : 1586465114719
        },
        "language" : "scala"
      },
      "language" : "scala",
      "source" : [
        "// We encode the resource to a pretty-printed JSON string.\n",
        "import ca.uhn.fhir.context.FhirContext\n",
        "val parser = FhirContext.forR4().newJsonParser()\n",
        "parser.setPrettyPrint(true)\n",
        "println(parser.encodeResourceToString(patient))"
      ],
      "outputs" : [
        {
          "name" : "stdout",
          "text" : [
            "{\n",
            "  \"resourceType\": \"Patient\",\n",
            "  \"id\": \"5476746449018318943\",\n",
            "  \"meta\": {\n",
            "    \"lastUpdated\": \"2020-04-09T20:43:23.249+00:00\"\n",
            "  },\n",
            "  \"extension\": [\n",
            "    {\n",
            "      \"url\": \"deidentified\",\n",
            "      \"valueBoolean\": false\n",
            "    },\n",
            "    {\n",
            "      \"url\": \"Age(Years)\",\n",
            "      \"valueInteger\": 28\n",
            "    }\n",
            "  ],\n",
            "  \"active\": true,\n",
            "  \"name\": [\n",
            "    {\n",
            "      \"family\": \"Jacobson885\",\n",
            "      \"given\": [\n",
            "        \"Jody426\"\n",
            "      ]\n",
            "    }\n",
            "  ],\n",
            "  \"gender\": \"female\",\n",
            "  \"birthDate\": \"1991-05-07\",\n",
            "  \"deceasedBoolean\": false\n",
            "}\n"
          ],
          "output_type" : "stream"
        }
      ]
    },
    {
      "cell_type" : "code",
      "execution_count" : 34,
      "metadata" : {
        "cell.metadata.exec_info" : {
          "startTs" : 1586465572463,
          "endTs" : 1586465573748
        },
        "language" : "scala"
      },
      "language" : "scala",
      "source" : [
        "// As a cursory check, we ensure that the person I Dmatches\n",
        "// the patient ID\n",
        "val patientId =\n",
        "    patient.getId.substring(patient.getId.lastIndexOf('/') + 1)\n",
        "if (patientId.toLong != personId) throw new AssertionError()"
      ],
      "outputs" : [
      ]
    }
  ]
}